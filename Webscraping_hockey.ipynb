{
 "cells": [
  {
   "cell_type": "markdown",
   "metadata": {},
   "source": [
    "# Webscraping NHL team stats since 1990"
   ]
  },
  {
   "cell_type": "markdown",
   "metadata": {},
   "source": [
    "imports"
   ]
  },
  {
   "cell_type": "code",
   "execution_count": 1,
   "metadata": {},
   "outputs": [],
   "source": [
    "import requests\n",
    "import bs4"
   ]
  },
  {
   "cell_type": "code",
   "execution_count": 2,
   "metadata": {},
   "outputs": [],
   "source": [
    "url='https://www.scrapethissite.com/pages/forms/'"
   ]
  },
  {
   "cell_type": "code",
   "execution_count": 5,
   "metadata": {},
   "outputs": [
    {
     "data": {
      "text/plain": [
       "<Response [200]>"
      ]
     },
     "execution_count": 5,
     "metadata": {},
     "output_type": "execute_result"
    }
   ],
   "source": [
    "response = requests.get(url)\n",
    "response"
   ]
  },
  {
   "cell_type": "code",
   "execution_count": 8,
   "metadata": {},
   "outputs": [],
   "source": [
    "soup = bs4.BeautifulSoup(response.text,'lxml')"
   ]
  },
  {
   "cell_type": "markdown",
   "metadata": {},
   "source": [
    "testing the scraping for one element "
   ]
  },
  {
   "cell_type": "code",
   "execution_count": 11,
   "metadata": {},
   "outputs": [],
   "source": [
    "team = soup.find_all('tr',class_='team')"
   ]
  },
  {
   "cell_type": "code",
   "execution_count": 13,
   "metadata": {},
   "outputs": [
    {
     "data": {
      "text/plain": [
       "'Boston Bruins'"
      ]
     },
     "execution_count": 13,
     "metadata": {},
     "output_type": "execute_result"
    }
   ],
   "source": [
    "name=team[0].find('td',class_='name')\n",
    "name.text.replace('\\n','').lstrip().rstrip() # removing \\n and white spaces"
   ]
  },
  {
   "cell_type": "code",
   "execution_count": 15,
   "metadata": {},
   "outputs": [
    {
     "data": {
      "text/plain": [
       "'1990'"
      ]
     },
     "execution_count": 15,
     "metadata": {},
     "output_type": "execute_result"
    }
   ],
   "source": [
    "year = team[0].find('td',class_='year')\n",
    "year.text.replace('\\n','').lstrip().rstrip()# removing \\n and white spaces"
   ]
  },
  {
   "cell_type": "code",
   "execution_count": 16,
   "metadata": {},
   "outputs": [
    {
     "data": {
      "text/plain": [
       "'44'"
      ]
     },
     "execution_count": 16,
     "metadata": {},
     "output_type": "execute_result"
    }
   ],
   "source": [
    "wins = team[0].find('td',class_='wins')\n",
    "wins.text.replace('\\n','').lstrip().rstrip()# removing \\n and white spaces"
   ]
  },
  {
   "cell_type": "code",
   "execution_count": 18,
   "metadata": {},
   "outputs": [
    {
     "data": {
      "text/plain": [
       "'24'"
      ]
     },
     "execution_count": 18,
     "metadata": {},
     "output_type": "execute_result"
    }
   ],
   "source": [
    "losses = team[0].find('td',class_='losses')\n",
    "losses.text.replace('\\n','').lstrip().rstrip()# removing \\n and white spaces"
   ]
  },
  {
   "cell_type": "code",
   "execution_count": 19,
   "metadata": {},
   "outputs": [
    {
     "data": {
      "text/plain": [
       "'0.55'"
      ]
     },
     "execution_count": 19,
     "metadata": {},
     "output_type": "execute_result"
    }
   ],
   "source": [
    "win_percent = team[0].find('td',class_='pct text-success')\n",
    "win_percent.text.replace('\\n','').lstrip().rstrip()"
   ]
  },
  {
   "cell_type": "code",
   "execution_count": 20,
   "metadata": {},
   "outputs": [
    {
     "data": {
      "text/plain": [
       "'299'"
      ]
     },
     "execution_count": 20,
     "metadata": {},
     "output_type": "execute_result"
    }
   ],
   "source": [
    "goalFor = team[0].find('td',class_='gf')\n",
    "goalFor.text.replace('\\n','').lstrip().rstrip()"
   ]
  },
  {
   "cell_type": "code",
   "execution_count": 23,
   "metadata": {},
   "outputs": [
    {
     "data": {
      "text/plain": [
       "'264'"
      ]
     },
     "execution_count": 23,
     "metadata": {},
     "output_type": "execute_result"
    }
   ],
   "source": [
    "goalAgainst = team[0].find('td',class_='ga')\n",
    "goalAgainst.text.replace('\\n','').lstrip().rstrip()"
   ]
  },
  {
   "cell_type": "markdown",
   "metadata": {},
   "source": [
    "Now let's scrape all the elements of a page and save it in a data frame"
   ]
  },
  {
   "cell_type": "code",
   "execution_count": 26,
   "metadata": {},
   "outputs": [],
   "source": [
    "def scrape():\n",
    "    Team_name = []\n",
    "    Year = []\n",
    "    Wins = []\n",
    "    Losses = []\n",
    "    Win_percent = []\n",
    "    Goal_for = []\n",
    "    Goal_Against = []\n",
    "\n",
    "    for i in range(len(team)):\n",
    "\n",
    "        # Team name\n",
    "        team_name = team[i].find('td',class_='name')\n",
    "        Team_name.append(team_name.text.replace('\\n','').lstrip().rstrip())\n",
    "\n",
    "        # Year played\n",
    "        year_played = team[i].find('td',class_='year')\n",
    "        Year.append(year_played.text.replace('\\n','').lstrip().rstrip())\n",
    "\n",
    "        #Wins\n",
    "        team_wins = team[i].find('td',class_='wins')\n",
    "        Wins.append(team_wins.text.replace('\\n','').lstrip().rstrip())\n",
    "\n",
    "        #Losses\n",
    "        team_losses = team[i].find('td',class_='losses')\n",
    "        Losses.append(team_losses.text.replace('\\n','').lstrip().rstrip())\n",
    "\n",
    "        # Win percentage\n",
    "        # try and except block to handle success and danger value\n",
    "        try:\n",
    "            team_win_percent = team[i].find('td',class_='pct text-success')\n",
    "            Win_percent.append(team_win_percent.text.replace('\\n','').lstrip().rstrip())\n",
    "        except:\n",
    "            team_win_percent = team[i].find('td',class_='pct text-danger')\n",
    "            Win_percent.append(team_win_percent.text.replace('\\n','').lstrip().rstrip())\n",
    "\n",
    "        #Team Goal for\n",
    "        team_goalFor = team[i].find('td',class_='gf')\n",
    "        Goal_for.append(team_goalFor.text.replace('\\n','').lstrip().rstrip())\n",
    "\n",
    "        # Team goal against\n",
    "        team_goalAgainst = team[i].find('td',class_='ga')\n",
    "        Goal_Against.append(team_goalAgainst.text.replace('\\n','').lstrip().rstrip())\n",
    "\n",
    "scrape()"
   ]
  }
 ],
 "metadata": {
  "interpreter": {
   "hash": "bacc4ade40b7a2da1942a08ed9836604f09ab0a9eccc996b650ebc1915796573"
  },
  "kernelspec": {
   "display_name": "Python 3.8.12 64-bit ('base': conda)",
   "language": "python",
   "name": "python3"
  },
  "language_info": {
   "codemirror_mode": {
    "name": "ipython",
    "version": 3
   },
   "file_extension": ".py",
   "mimetype": "text/x-python",
   "name": "python",
   "nbconvert_exporter": "python",
   "pygments_lexer": "ipython3",
   "version": "3.8.12"
  },
  "orig_nbformat": 4
 },
 "nbformat": 4,
 "nbformat_minor": 2
}
