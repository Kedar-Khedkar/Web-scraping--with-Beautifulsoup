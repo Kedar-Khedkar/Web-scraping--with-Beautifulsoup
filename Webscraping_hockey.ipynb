{
 "cells": [
  {
   "cell_type": "markdown",
   "metadata": {},
   "source": [
    "# Webscraping NHL team stats since 1990"
   ]
  },
  {
   "cell_type": "markdown",
   "metadata": {},
   "source": [
    "imports"
   ]
  },
  {
   "cell_type": "code",
   "execution_count": 1,
   "metadata": {},
   "outputs": [],
   "source": [
    "import requests\n",
    "import bs4"
   ]
  },
  {
   "cell_type": "code",
   "execution_count": 2,
   "metadata": {},
   "outputs": [],
   "source": [
    "url='https://www.scrapethissite.com/pages/forms/'"
   ]
  },
  {
   "cell_type": "code",
   "execution_count": 5,
   "metadata": {},
   "outputs": [
    {
     "data": {
      "text/plain": [
       "<Response [200]>"
      ]
     },
     "execution_count": 5,
     "metadata": {},
     "output_type": "execute_result"
    }
   ],
   "source": [
    "response = requests.get(url)\n",
    "response"
   ]
  },
  {
   "cell_type": "code",
   "execution_count": 8,
   "metadata": {},
   "outputs": [],
   "source": [
    "soup = bs4.BeautifulSoup(response.text,'lxml')"
   ]
  },
  {
   "cell_type": "markdown",
   "metadata": {},
   "source": [
    "testing the scraping for one element "
   ]
  },
  {
   "cell_type": "code",
   "execution_count": 11,
   "metadata": {},
   "outputs": [],
   "source": [
    "team = soup.find_all('tr',class_='team')"
   ]
  },
  {
   "cell_type": "code",
   "execution_count": 13,
   "metadata": {},
   "outputs": [
    {
     "data": {
      "text/plain": [
       "'Boston Bruins'"
      ]
     },
     "execution_count": 13,
     "metadata": {},
     "output_type": "execute_result"
    }
   ],
   "source": [
    "name=team[0].find('td',class_='name')\n",
    "name.text.replace('\\n','').lstrip().rstrip() # removing \\n and white spaces"
   ]
  },
  {
   "cell_type": "code",
   "execution_count": 15,
   "metadata": {},
   "outputs": [
    {
     "data": {
      "text/plain": [
       "'1990'"
      ]
     },
     "execution_count": 15,
     "metadata": {},
     "output_type": "execute_result"
    }
   ],
   "source": [
    "year = team[0].find('td',class_='year')\n",
    "year.text.replace('\\n','').lstrip().rstrip()# removing \\n and white spaces"
   ]
  },
  {
   "cell_type": "code",
   "execution_count": 16,
   "metadata": {},
   "outputs": [
    {
     "data": {
      "text/plain": [
       "'44'"
      ]
     },
     "execution_count": 16,
     "metadata": {},
     "output_type": "execute_result"
    }
   ],
   "source": [
    "wins = team[0].find('td',class_='wins')\n",
    "wins.text.replace('\\n','').lstrip().rstrip()# removing \\n and white spaces"
   ]
  },
  {
   "cell_type": "code",
   "execution_count": 18,
   "metadata": {},
   "outputs": [
    {
     "data": {
      "text/plain": [
       "'24'"
      ]
     },
     "execution_count": 18,
     "metadata": {},
     "output_type": "execute_result"
    }
   ],
   "source": [
    "losses = team[0].find('td',class_='losses')\n",
    "losses.text.replace('\\n','').lstrip().rstrip()# removing \\n and white spaces"
   ]
  },
  {
   "cell_type": "code",
   "execution_count": 19,
   "metadata": {},
   "outputs": [
    {
     "data": {
      "text/plain": [
       "'0.55'"
      ]
     },
     "execution_count": 19,
     "metadata": {},
     "output_type": "execute_result"
    }
   ],
   "source": [
    "win_percent = team[0].find('td',class_='pct text-success')\n",
    "win_percent.text.replace('\\n','').lstrip().rstrip()"
   ]
  },
  {
   "cell_type": "code",
   "execution_count": 20,
   "metadata": {},
   "outputs": [
    {
     "data": {
      "text/plain": [
       "'299'"
      ]
     },
     "execution_count": 20,
     "metadata": {},
     "output_type": "execute_result"
    }
   ],
   "source": [
    "goalFor = team[0].find('td',class_='gf')\n",
    "goalFor.text.replace('\\n','').lstrip().rstrip()"
   ]
  },
  {
   "cell_type": "code",
   "execution_count": 23,
   "metadata": {},
   "outputs": [
    {
     "data": {
      "text/plain": [
       "'264'"
      ]
     },
     "execution_count": 23,
     "metadata": {},
     "output_type": "execute_result"
    }
   ],
   "source": [
    "goalAgainst = team[0].find('td',class_='ga')\n",
    "goalAgainst.text.replace('\\n','').lstrip().rstrip()"
   ]
  },
  {
   "cell_type": "markdown",
   "metadata": {},
   "source": [
    "Now let's scrape all the elements of a page and save it in a data frame"
   ]
  },
  {
   "cell_type": "code",
   "execution_count": 36,
   "metadata": {},
   "outputs": [],
   "source": [
    "def scrape():\n",
    "    Team_name = []\n",
    "    Year = []\n",
    "    Wins = []\n",
    "    Losses = []\n",
    "    Win_percent = []\n",
    "    Goal_for = []\n",
    "    Goal_Against = []\n",
    "\n",
    "    for i in range(len(team)):\n",
    "\n",
    "        # Team name\n",
    "        team_name = team[i].find('td',class_='name')\n",
    "        Team_name.append(team_name.text.replace('\\n','').lstrip().rstrip())\n",
    "\n",
    "        # Year played\n",
    "        year_played = team[i].find('td',class_='year')\n",
    "        Year.append(year_played.text.replace('\\n','').lstrip().rstrip())\n",
    "\n",
    "        #Wins\n",
    "        team_wins = team[i].find('td',class_='wins')\n",
    "        Wins.append(team_wins.text.replace('\\n','').lstrip().rstrip())\n",
    "\n",
    "        #Losses\n",
    "        team_losses = team[i].find('td',class_='losses')\n",
    "        Losses.append(team_losses.text.replace('\\n','').lstrip().rstrip())\n",
    "\n",
    "        # Win percentage\n",
    "        # try and except block to handle success and danger value\n",
    "        try:\n",
    "            team_win_percent = team[i].find('td',class_='pct text-success')\n",
    "            Win_percent.append(team_win_percent.text.replace('\\n','').lstrip().rstrip())\n",
    "        except:\n",
    "            team_win_percent = team[i].find('td',class_='pct text-danger')\n",
    "            Win_percent.append(team_win_percent.text.replace('\\n','').lstrip().rstrip())\n",
    "\n",
    "        #Team Goal for\n",
    "        team_goalFor = team[i].find('td',class_='gf')\n",
    "        Goal_for.append(team_goalFor.text.replace('\\n','').lstrip().rstrip())\n",
    "\n",
    "        # Team goal against\n",
    "        team_goalAgainst = team[i].find('td',class_='ga')\n",
    "        Goal_Against.append(team_goalAgainst.text.replace('\\n','').lstrip().rstrip())\n",
    "\n",
    "scrape()"
   ]
  },
  {
   "cell_type": "markdown",
   "metadata": {},
   "source": [
    "Now let's scrape elements from multiple pages through pagination"
   ]
  },
  {
   "cell_type": "code",
   "execution_count": 39,
   "metadata": {},
   "outputs": [],
   "source": [
    "Team_name = []\n",
    "Year = []\n",
    "Wins = []\n",
    "Losses = []\n",
    "Win_percent = []\n",
    "Goal_for = []\n",
    "Goal_Against = []\n",
    "\n",
    "def page_crawler():\n",
    "    \n",
    "    for i in range(24):\n",
    "        response = requests.get('https://www.scrapethissite.com/pages/forms/?page_num={}'.format(i))\n",
    "        soup = bs4.BeautifulSoup(response.text,'lxml')\n",
    "        for i in range(len(team)):\n",
    "            \n",
    "            # Team name\n",
    "            team_name = team[i].find('td',class_='name')\n",
    "            Team_name.append(team_name.text.replace('\\n','').lstrip().rstrip())\n",
    "\n",
    "            # Year played\n",
    "            year_played = team[i].find('td',class_='year')\n",
    "            Year.append(year_played.text.replace('\\n','').lstrip().rstrip())\n",
    "\n",
    "            #Wins\n",
    "            team_wins = team[i].find('td',class_='wins')\n",
    "            Wins.append(team_wins.text.replace('\\n','').lstrip().rstrip())\n",
    "\n",
    "            #Losses\n",
    "            team_losses = team[i].find('td',class_='losses')\n",
    "            Losses.append(team_losses.text.replace('\\n','').lstrip().rstrip())\n",
    "\n",
    "            # Win percentage\n",
    "            # try and except block to handle success and danger value\n",
    "            try:\n",
    "                team_win_percent = team[i].find('td',class_='pct text-success')\n",
    "                Win_percent.append(team_win_percent.text.replace('\\n','').lstrip().rstrip())\n",
    "            except:\n",
    "                team_win_percent = team[i].find('td',class_='pct text-danger')\n",
    "                Win_percent.append(team_win_percent.text.replace('\\n','').lstrip().rstrip())\n",
    "\n",
    "            #Team Goal for\n",
    "            team_goalFor = team[i].find('td',class_='gf')\n",
    "            Goal_for.append(team_goalFor.text.replace('\\n','').lstrip().rstrip())\n",
    "\n",
    "            # Team goal against\n",
    "            team_goalAgainst = team[i].find('td',class_='ga')\n",
    "            Goal_Against.append(team_goalAgainst.text.replace('\\n','').lstrip().rstrip())\n",
    "page_crawler()"
   ]
  },
  {
   "cell_type": "markdown",
   "metadata": {},
   "source": [
    "Saving collected data into csv file"
   ]
  },
  {
   "cell_type": "code",
   "execution_count": 44,
   "metadata": {},
   "outputs": [
    {
     "data": {
      "text/html": [
       "<div>\n",
       "<style scoped>\n",
       "    .dataframe tbody tr th:only-of-type {\n",
       "        vertical-align: middle;\n",
       "    }\n",
       "\n",
       "    .dataframe tbody tr th {\n",
       "        vertical-align: top;\n",
       "    }\n",
       "\n",
       "    .dataframe thead th {\n",
       "        text-align: right;\n",
       "    }\n",
       "</style>\n",
       "<table border=\"1\" class=\"dataframe\">\n",
       "  <thead>\n",
       "    <tr style=\"text-align: right;\">\n",
       "      <th></th>\n",
       "      <th>team_name</th>\n",
       "      <th>year</th>\n",
       "      <th>wins</th>\n",
       "      <th>losses</th>\n",
       "      <th>win_percent</th>\n",
       "      <th>goal_for</th>\n",
       "      <th>goal_against</th>\n",
       "    </tr>\n",
       "  </thead>\n",
       "  <tbody>\n",
       "    <tr>\n",
       "      <th>0</th>\n",
       "      <td>Boston Bruins</td>\n",
       "      <td>1990</td>\n",
       "      <td>44</td>\n",
       "      <td>24</td>\n",
       "      <td>0.55</td>\n",
       "      <td>299</td>\n",
       "      <td>264</td>\n",
       "    </tr>\n",
       "    <tr>\n",
       "      <th>1</th>\n",
       "      <td>Buffalo Sabres</td>\n",
       "      <td>1990</td>\n",
       "      <td>31</td>\n",
       "      <td>30</td>\n",
       "      <td>0.388</td>\n",
       "      <td>292</td>\n",
       "      <td>278</td>\n",
       "    </tr>\n",
       "    <tr>\n",
       "      <th>2</th>\n",
       "      <td>Calgary Flames</td>\n",
       "      <td>1990</td>\n",
       "      <td>46</td>\n",
       "      <td>26</td>\n",
       "      <td>0.575</td>\n",
       "      <td>344</td>\n",
       "      <td>263</td>\n",
       "    </tr>\n",
       "    <tr>\n",
       "      <th>3</th>\n",
       "      <td>Chicago Blackhawks</td>\n",
       "      <td>1990</td>\n",
       "      <td>49</td>\n",
       "      <td>23</td>\n",
       "      <td>0.613</td>\n",
       "      <td>284</td>\n",
       "      <td>211</td>\n",
       "    </tr>\n",
       "    <tr>\n",
       "      <th>4</th>\n",
       "      <td>Detroit Red Wings</td>\n",
       "      <td>1990</td>\n",
       "      <td>34</td>\n",
       "      <td>38</td>\n",
       "      <td>0.425</td>\n",
       "      <td>273</td>\n",
       "      <td>298</td>\n",
       "    </tr>\n",
       "  </tbody>\n",
       "</table>\n",
       "</div>"
      ],
      "text/plain": [
       "            team_name  year wins losses win_percent goal_for goal_against\n",
       "0       Boston Bruins  1990   44     24        0.55      299          264\n",
       "1      Buffalo Sabres  1990   31     30       0.388      292          278\n",
       "2      Calgary Flames  1990   46     26       0.575      344          263\n",
       "3  Chicago Blackhawks  1990   49     23       0.613      284          211\n",
       "4   Detroit Red Wings  1990   34     38       0.425      273          298"
      ]
     },
     "execution_count": 44,
     "metadata": {},
     "output_type": "execute_result"
    }
   ],
   "source": [
    "import pandas as pd\n",
    "\n",
    "hockey_df = pd.DataFrame({'team_name':Team_name,'year':Year,'wins':Wins,'losses':Losses,\n",
    "                          'win_percent':Win_percent,'goal_for':Goal_for,'goal_against':Goal_Against})\n",
    "hockey_df.head()"
   ]
  }
 ],
 "metadata": {
  "interpreter": {
   "hash": "bacc4ade40b7a2da1942a08ed9836604f09ab0a9eccc996b650ebc1915796573"
  },
  "kernelspec": {
   "display_name": "Python 3.8.12 64-bit ('base': conda)",
   "language": "python",
   "name": "python3"
  },
  "language_info": {
   "codemirror_mode": {
    "name": "ipython",
    "version": 3
   },
   "file_extension": ".py",
   "mimetype": "text/x-python",
   "name": "python",
   "nbconvert_exporter": "python",
   "pygments_lexer": "ipython3",
   "version": "3.8.12"
  },
  "orig_nbformat": 4
 },
 "nbformat": 4,
 "nbformat_minor": 2
}
